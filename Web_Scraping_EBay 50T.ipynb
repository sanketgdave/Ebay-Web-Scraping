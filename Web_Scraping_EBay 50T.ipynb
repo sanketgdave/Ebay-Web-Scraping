{
 "cells": [
  {
   "cell_type": "code",
   "execution_count": 89,
   "id": "c42aa7df",
   "metadata": {},
   "outputs": [],
   "source": [
    "# installing neccesary libraries\n",
    "\n",
    "# pip install requests_html\n",
    "# pip install bs4\n",
    "# pip install pandas\n",
    "# pip install re\n",
    "# pip install seaborn\n",
    "# pip install matplotlib"
   ]
  },
  {
   "cell_type": "markdown",
   "id": "6449ef9e",
   "metadata": {
    "id": "6449ef9e"
   },
   "source": [
    "# Libraries"
   ]
  },
  {
   "cell_type": "code",
   "execution_count": 90,
   "id": "3f185458",
   "metadata": {
    "id": "3f185458"
   },
   "outputs": [],
   "source": [
    "from requests_html import HTMLSession\n",
    "from bs4 import BeautifulSoup\n",
    "import pandas as pd\n",
    "from matplotlib import pyplot as plt\n",
    "import seaborn as sns\n",
    "import re\n",
    "\n",
    "%matplotlib inline\n",
    "\n",
    "pd.set_option(\"display.max_colwidth\",None)"
   ]
  },
  {
   "cell_type": "markdown",
   "id": "41cd3c2c",
   "metadata": {
    "id": "41cd3c2c"
   },
   "source": [
    "# Webscraping Code"
   ]
  },
  {
   "cell_type": "code",
   "execution_count": 91,
   "id": "09ef2ab9",
   "metadata": {
    "id": "09ef2ab9"
   },
   "outputs": [],
   "source": [
    "#creating html session\n",
    "s = HTMLSession()\n",
    "\n",
    "#empty list to store the data\n",
    "data = []\n",
    "sr_no = -1\n",
    "\n",
    "#taking input from user to get keyword \n",
    "keyword = \"Zimbabwe 50 Trillion\"\n",
    "#input('Enter your keyword here: ')\n",
    "\n",
    "#gathering urls for extracting data from first six pages\n",
    "urls = ['https://www.ebay.com/sch/i.html?_from=R40&_nkw={}&_sacat=0&_ipg=240&_pgn={}&rt=nc'.format(keyword, x) for x in range(1,11)]\n",
    "\n",
    "for url in urls:\n",
    "    \n",
    "    page = s.get(url.strip())\n",
    "    soup = BeautifulSoup(page.text, \"html.parser\")\n",
    "\n",
    "    # Find all of the elements with the class \"s-item__info.clearfix\"\n",
    "    items = soup.find_all(class_ = \"s-item__info clearfix\")\n",
    "\n",
    "    # Loop through the items and extract the data and append it to the data list\n",
    "    for item in items:\n",
    "            \n",
    "        title = item.find(class_=\"s-item__title\").get_text()\n",
    "        price = item.find(class_=\"s-item__price\").get_text()\n",
    "        #condition = item.find(class_ = \"SECONDARY_INFO\").get_text()\n",
    "        sr_no = sr_no+1\n",
    "        \n",
    "        try:\n",
    "            seller_info = item.find(class_ = \"s-item__seller-info\").get_text()\n",
    "        except:\n",
    "            seller_info = \"N/A\"\n",
    "        \n",
    "        data.append([sr_no,title, price, seller_info])"
   ]
  },
  {
   "cell_type": "markdown",
   "id": "11627bbe",
   "metadata": {
    "id": "11627bbe"
   },
   "source": [
    "# DataFrame"
   ]
  },
  {
   "cell_type": "code",
   "execution_count": 92,
   "id": "ad5c440b",
   "metadata": {
    "colab": {
     "base_uri": "https://localhost:8080/",
     "height": 206
    },
    "id": "ad5c440b",
    "outputId": "a37f77f9-7f25-44cf-b81b-1a027931a9ea"
   },
   "outputs": [
    {
     "data": {
      "text/html": [
       "<div>\n",
       "<style scoped>\n",
       "    .dataframe tbody tr th:only-of-type {\n",
       "        vertical-align: middle;\n",
       "    }\n",
       "\n",
       "    .dataframe tbody tr th {\n",
       "        vertical-align: top;\n",
       "    }\n",
       "\n",
       "    .dataframe thead th {\n",
       "        text-align: right;\n",
       "    }\n",
       "</style>\n",
       "<table border=\"1\" class=\"dataframe\">\n",
       "  <thead>\n",
       "    <tr style=\"text-align: right;\">\n",
       "      <th></th>\n",
       "      <th>Sr_No</th>\n",
       "      <th>Title</th>\n",
       "      <th>Price</th>\n",
       "      <th>Seller Info</th>\n",
       "    </tr>\n",
       "  </thead>\n",
       "  <tbody>\n",
       "    <tr>\n",
       "      <th>1</th>\n",
       "      <td>1</td>\n",
       "      <td>Zimbabwe 50 TRILLION DOLLAR BILL AA/2008 uncirculated 100% COA genuine 1 bill</td>\n",
       "      <td>$43.00</td>\n",
       "      <td>100trillions (7,384) 99.8%</td>\n",
       "    </tr>\n",
       "    <tr>\n",
       "      <th>2</th>\n",
       "      <td>2</td>\n",
       "      <td>2008 50 TRILLION DOLLARS ZIM ZIMBABWE AA SERIES P90 CIRCULATED, FAST SHIP</td>\n",
       "      <td>$49.55</td>\n",
       "      <td>collectibles-currency (3,291) 99.9%</td>\n",
       "    </tr>\n",
       "    <tr>\n",
       "      <th>3</th>\n",
       "      <td>3</td>\n",
       "      <td>ZIM Zimbabwe 50 TRILLION  AA/2008 UNC 100% COA genuine 2 BANKNOTES, bundle, USA</td>\n",
       "      <td>$80.00</td>\n",
       "      <td>100trillions (7,384) 99.8%</td>\n",
       "    </tr>\n",
       "    <tr>\n",
       "      <th>4</th>\n",
       "      <td>4</td>\n",
       "      <td>Zimbabwe 50 TRILLION DOLLAR BILL AA/2008 uncirculated 100% COA genuine 10 bills</td>\n",
       "      <td>$400.00</td>\n",
       "      <td>100trillions (7,384) 99.8%</td>\n",
       "    </tr>\n",
       "    <tr>\n",
       "      <th>5</th>\n",
       "      <td>5</td>\n",
       "      <td>Zimbabwe 50 TRILLION DOLLAR BILL AA/2008 UNC P-90 100% COA genuine Sale FEW LEFT</td>\n",
       "      <td>$41.99</td>\n",
       "      <td>100trillions (7,384) 99.8%</td>\n",
       "    </tr>\n",
       "  </tbody>\n",
       "</table>\n",
       "</div>"
      ],
      "text/plain": [
       "   Sr_No  \\\n",
       "1      1   \n",
       "2      2   \n",
       "3      3   \n",
       "4      4   \n",
       "5      5   \n",
       "\n",
       "                                                                              Title  \\\n",
       "1     Zimbabwe 50 TRILLION DOLLAR BILL AA/2008 uncirculated 100% COA genuine 1 bill   \n",
       "2         2008 50 TRILLION DOLLARS ZIM ZIMBABWE AA SERIES P90 CIRCULATED, FAST SHIP   \n",
       "3   ZIM Zimbabwe 50 TRILLION  AA/2008 UNC 100% COA genuine 2 BANKNOTES, bundle, USA   \n",
       "4   Zimbabwe 50 TRILLION DOLLAR BILL AA/2008 uncirculated 100% COA genuine 10 bills   \n",
       "5  Zimbabwe 50 TRILLION DOLLAR BILL AA/2008 UNC P-90 100% COA genuine Sale FEW LEFT   \n",
       "\n",
       "     Price                          Seller Info  \n",
       "1   $43.00           100trillions (7,384) 99.8%  \n",
       "2   $49.55  collectibles-currency (3,291) 99.9%  \n",
       "3   $80.00           100trillions (7,384) 99.8%  \n",
       "4  $400.00           100trillions (7,384) 99.8%  \n",
       "5   $41.99           100trillions (7,384) 99.8%  "
      ]
     },
     "execution_count": 92,
     "metadata": {},
     "output_type": "execute_result"
    }
   ],
   "source": [
    "df = pd.DataFrame(data, columns=[\"Sr_No\",\"Title\",\"Price\",\"Seller Info\"])\n",
    "df.drop(0,axis=0,inplace=True)\n",
    "df.head()"
   ]
  },
  {
   "cell_type": "markdown",
   "id": "95d8ba64",
   "metadata": {
    "id": "95d8ba64"
   },
   "source": [
    "# Data Preparation"
   ]
  },
  {
   "cell_type": "markdown",
   "id": "1e842e5a",
   "metadata": {
    "id": "1e842e5a"
   },
   "source": [
    "**converting to uppercase**"
   ]
  },
  {
   "cell_type": "markdown",
   "id": "73a679b7",
   "metadata": {
    "id": "73a679b7"
   },
   "source": [
    "df[\"Title\"] = df[\"Title\"].str.upper()\n",
    "df[\"List of words\"] = df[\"Title\"].str.split(' ')\n",
    "df.head()"
   ]
  },
  {
   "cell_type": "code",
   "execution_count": 93,
   "id": "d474c361",
   "metadata": {
    "colab": {
     "base_uri": "https://localhost:8080/"
    },
    "id": "d474c361",
    "outputId": "a6882b3d-8548-4043-f4c8-df4bb0a30a0e"
   },
   "outputs": [
    {
     "data": {
      "text/plain": [
       "Sr_No           int64\n",
       "Title          object\n",
       "Price          object\n",
       "Seller Info    object\n",
       "dtype: object"
      ]
     },
     "execution_count": 93,
     "metadata": {},
     "output_type": "execute_result"
    }
   ],
   "source": [
    "df[\"Title\"] = df[\"Title\"].str.upper()\n",
    "df.dtypes"
   ]
  },
  {
   "cell_type": "markdown",
   "id": "a35e9dce",
   "metadata": {
    "id": "a35e9dce"
   },
   "source": [
    "**Removing the rows that had prices in Range format**"
   ]
  },
  {
   "cell_type": "code",
   "execution_count": 94,
   "id": "7220ca90",
   "metadata": {
    "colab": {
     "base_uri": "https://localhost:8080/"
    },
    "id": "7220ca90",
    "outputId": "6a0f8937-6d9a-4ea2-93b9-2e56f0af9c89"
   },
   "outputs": [
    {
     "name": "stdout",
     "output_type": "stream",
     "text": [
      "False    1821\n",
      "True       12\n",
      "Name: Price, dtype: int64\n"
     ]
    }
   ],
   "source": [
    "mask = df['Price'].str.len() > 11\n",
    "\n",
    "print(mask.value_counts())\n",
    "\n",
    "df = df.drop(index=df[mask].index)"
   ]
  },
  {
   "cell_type": "markdown",
   "id": "40ffb031",
   "metadata": {
    "id": "40ffb031"
   },
   "source": [
    "**Converting the datatype of price from string to numeric**"
   ]
  },
  {
   "cell_type": "code",
   "execution_count": 95,
   "id": "5af098b5",
   "metadata": {
    "colab": {
     "base_uri": "https://localhost:8080/"
    },
    "id": "5af098b5",
    "outputId": "010e403f-8103-431b-a66c-c804c1df7094"
   },
   "outputs": [
    {
     "name": "stderr",
     "output_type": "stream",
     "text": [
      "/var/folders/yn/bh3l87k551bc5m4xkp00gxxr0000gn/T/ipykernel_80542/3684364602.py:1: FutureWarning: The default value of regex will change from True to False in a future version. In addition, single character regular expressions will *not* be treated as literal strings when regex=True.\n",
      "  df['Price'] = df['Price'].str.replace('$', '')\n"
     ]
    }
   ],
   "source": [
    "df['Price'] = df['Price'].str.replace('$', '')\n",
    "df['Price'] = df['Price'].str.replace(',', '')\n",
    "df['Price'] = pd.to_numeric(df[\"Price\"])"
   ]
  },
  {
   "cell_type": "markdown",
   "id": "ec3b3797",
   "metadata": {
    "id": "ec3b3797"
   },
   "source": [
    "**Sorting the data in descending order**"
   ]
  },
  {
   "cell_type": "code",
   "execution_count": 96,
   "id": "8aea29e7",
   "metadata": {
    "id": "8aea29e7"
   },
   "outputs": [],
   "source": [
    "df_desc = df.sort_values(\"Price\",ascending=False)"
   ]
  },
  {
   "cell_type": "markdown",
   "id": "3tXEER0W-BuU",
   "metadata": {
    "id": "3tXEER0W-BuU"
   },
   "source": [
    "**data between price range of 50 and 300**"
   ]
  },
  {
   "cell_type": "code",
   "execution_count": 97,
   "id": "a9b647fa",
   "metadata": {
    "id": "a9b647fa"
   },
   "outputs": [],
   "source": [
    "df2 = df[(df['Price'] >= 50) & (df['Price'] <= 300)]"
   ]
  },
  {
   "cell_type": "code",
   "execution_count": 98,
   "id": "bf0c3206",
   "metadata": {
    "id": "bf0c3206"
   },
   "outputs": [],
   "source": [
    "df2_sorted = df2.sort_values(\"Price\",ascending=False)"
   ]
  },
  {
   "cell_type": "code",
   "execution_count": 99,
   "id": "3c31c98d",
   "metadata": {
    "colab": {
     "base_uri": "https://localhost:8080/"
    },
    "id": "3c31c98d",
    "outputId": "a9ea999d-71c4-4cda-c283-9647a9ff245e"
   },
   "outputs": [
    {
     "data": {
      "text/plain": [
       "(1062, 4)"
      ]
     },
     "execution_count": 99,
     "metadata": {},
     "output_type": "execute_result"
    }
   ],
   "source": [
    "df2.shape"
   ]
  },
  {
   "cell_type": "markdown",
   "id": "JoqV8T4YCdFh",
   "metadata": {
    "id": "JoqV8T4YCdFh"
   },
   "source": [
    "**Common words**"
   ]
  },
  {
   "cell_type": "code",
   "execution_count": 100,
   "id": "a13c214c",
   "metadata": {
    "id": "a13c214c"
   },
   "outputs": [
    {
     "data": {
      "text/plain": [
       "ZIMBABWE    1727\n",
       "50          1657\n",
       "TRILLION    1410\n",
       "DOLLAR       822\n",
       "UNC          782\n",
       "dtype: int64"
      ]
     },
     "execution_count": 100,
     "metadata": {},
     "output_type": "execute_result"
    }
   ],
   "source": [
    "#pd.options.display.max_rows = None\n",
    "common = pd.Series(' '.join(df['Title']).split()).value_counts()\n",
    "common[0:5]"
   ]
  },
  {
   "cell_type": "code",
   "execution_count": 101,
   "id": "bdb3a981",
   "metadata": {
    "id": "bdb3a981"
   },
   "outputs": [],
   "source": [
    "# trim title - leading and trailing spaces\n",
    "df['Title'] = df['Title'].str.strip()"
   ]
  },
  {
   "cell_type": "markdown",
   "id": "Xl0tl6hs_8i8",
   "metadata": {
    "id": "Xl0tl6hs_8i8"
   },
   "source": [
    "**Remove unnecesary special characters**"
   ]
  },
  {
   "cell_type": "code",
   "execution_count": 102,
   "id": "U63pJ80Gm7_z",
   "metadata": {
    "id": "U63pJ80Gm7_z"
   },
   "outputs": [],
   "source": [
    "def clean_sentence(sentence):\n",
    "    return re.sub(r'[^a-zA-Z0-9\\s\\%]+', '', sentence)\n",
    "\n",
    "df['Title'] = df['Title'].apply(clean_sentence)"
   ]
  },
  {
   "cell_type": "markdown",
   "id": "Ip-l-EtcDcLC",
   "metadata": {
    "id": "Ip-l-EtcDcLC"
   },
   "source": [
    "**Condition Filter**"
   ]
  },
  {
   "cell_type": "code",
   "execution_count": 103,
   "id": "d04b2316",
   "metadata": {
    "colab": {
     "base_uri": "https://localhost:8080/",
     "height": 206
    },
    "id": "d04b2316",
    "outputId": "bf22016e-e7a7-4e9f-855f-c5a76ce3df0b"
   },
   "outputs": [
    {
     "data": {
      "text/html": [
       "<div>\n",
       "<style scoped>\n",
       "    .dataframe tbody tr th:only-of-type {\n",
       "        vertical-align: middle;\n",
       "    }\n",
       "\n",
       "    .dataframe tbody tr th {\n",
       "        vertical-align: top;\n",
       "    }\n",
       "\n",
       "    .dataframe thead th {\n",
       "        text-align: right;\n",
       "    }\n",
       "</style>\n",
       "<table border=\"1\" class=\"dataframe\">\n",
       "  <thead>\n",
       "    <tr style=\"text-align: right;\">\n",
       "      <th></th>\n",
       "      <th>Sr_No</th>\n",
       "      <th>Title</th>\n",
       "      <th>Price</th>\n",
       "      <th>Seller Info</th>\n",
       "      <th>Condition</th>\n",
       "    </tr>\n",
       "  </thead>\n",
       "  <tbody>\n",
       "    <tr>\n",
       "      <th>1</th>\n",
       "      <td>1</td>\n",
       "      <td>ZIMBABWE 50 TRILLION DOLLAR BILL AA2008 UNCIRCULATED 100% COA GENUINE 1 BILL</td>\n",
       "      <td>43.00</td>\n",
       "      <td>100trillions (7,384) 99.8%</td>\n",
       "      <td>UNC</td>\n",
       "    </tr>\n",
       "    <tr>\n",
       "      <th>2</th>\n",
       "      <td>2</td>\n",
       "      <td>2008 50 TRILLION DOLLARS ZIM ZIMBABWE AA SERIES P90 CIRCULATED FAST SHIP</td>\n",
       "      <td>49.55</td>\n",
       "      <td>collectibles-currency (3,291) 99.9%</td>\n",
       "      <td>CIRCULATED</td>\n",
       "    </tr>\n",
       "    <tr>\n",
       "      <th>3</th>\n",
       "      <td>3</td>\n",
       "      <td>ZIM ZIMBABWE 50 TRILLION  AA2008 UNC 100% COA GENUINE 2 BANKNOTES BUNDLE USA</td>\n",
       "      <td>80.00</td>\n",
       "      <td>100trillions (7,384) 99.8%</td>\n",
       "      <td>UNC</td>\n",
       "    </tr>\n",
       "    <tr>\n",
       "      <th>4</th>\n",
       "      <td>4</td>\n",
       "      <td>ZIMBABWE 50 TRILLION DOLLAR BILL AA2008 UNCIRCULATED 100% COA GENUINE 10 BILLS</td>\n",
       "      <td>400.00</td>\n",
       "      <td>100trillions (7,384) 99.8%</td>\n",
       "      <td>UNC</td>\n",
       "    </tr>\n",
       "    <tr>\n",
       "      <th>5</th>\n",
       "      <td>5</td>\n",
       "      <td>ZIMBABWE 50 TRILLION DOLLAR BILL AA2008 UNC P90 100% COA GENUINE SALE FEW LEFT</td>\n",
       "      <td>41.99</td>\n",
       "      <td>100trillions (7,384) 99.8%</td>\n",
       "      <td>UNC</td>\n",
       "    </tr>\n",
       "  </tbody>\n",
       "</table>\n",
       "</div>"
      ],
      "text/plain": [
       "   Sr_No  \\\n",
       "1      1   \n",
       "2      2   \n",
       "3      3   \n",
       "4      4   \n",
       "5      5   \n",
       "\n",
       "                                                                            Title  \\\n",
       "1    ZIMBABWE 50 TRILLION DOLLAR BILL AA2008 UNCIRCULATED 100% COA GENUINE 1 BILL   \n",
       "2        2008 50 TRILLION DOLLARS ZIM ZIMBABWE AA SERIES P90 CIRCULATED FAST SHIP   \n",
       "3    ZIM ZIMBABWE 50 TRILLION  AA2008 UNC 100% COA GENUINE 2 BANKNOTES BUNDLE USA   \n",
       "4  ZIMBABWE 50 TRILLION DOLLAR BILL AA2008 UNCIRCULATED 100% COA GENUINE 10 BILLS   \n",
       "5  ZIMBABWE 50 TRILLION DOLLAR BILL AA2008 UNC P90 100% COA GENUINE SALE FEW LEFT   \n",
       "\n",
       "    Price                          Seller Info   Condition  \n",
       "1   43.00           100trillions (7,384) 99.8%         UNC  \n",
       "2   49.55  collectibles-currency (3,291) 99.9%  CIRCULATED  \n",
       "3   80.00           100trillions (7,384) 99.8%         UNC  \n",
       "4  400.00           100trillions (7,384) 99.8%         UNC  \n",
       "5   41.99           100trillions (7,384) 99.8%         UNC  "
      ]
     },
     "execution_count": 103,
     "metadata": {},
     "output_type": "execute_result"
    }
   ],
   "source": [
    "# making a new column for condition of the prod\n",
    "\n",
    "condition_filter = [\"UNC\",\"CIRCULATED\",\"UNCIRCULATED\",\"NEW\",\"DAMAGED\",\"USED\",\"NON-CIRCULATING\"]\n",
    "\n",
    "def check_word(sentence):\n",
    "    for word in condition_filter:\n",
    "        if word in sentence:\n",
    "            return word\n",
    "    return None\n",
    "\n",
    "df['Condition'] = df[\"Title\"].apply(check_word)\n",
    "df.head()"
   ]
  },
  {
   "cell_type": "code",
   "execution_count": 104,
   "id": "tr5cYzI5pfZq",
   "metadata": {
    "colab": {
     "base_uri": "https://localhost:8080/"
    },
    "id": "tr5cYzI5pfZq",
    "outputId": "a66f86b3-2251-44fc-a239-a0e3c77bf99f"
   },
   "outputs": [
    {
     "name": "stderr",
     "output_type": "stream",
     "text": [
      "/var/folders/yn/bh3l87k551bc5m4xkp00gxxr0000gn/T/ipykernel_80542/3197516716.py:14: UserWarning: Boolean Series key will be reindexed to match DataFrame index.\n",
      "  df_copy = df_copy[(df[\"Price\"] >= 50) & (df[\"Price\"] <= 700)]\n"
     ]
    }
   ],
   "source": [
    "combinations= [\"NON CURRENCY\",\"X\",\"GIFT\",\"10X\",\"10 TRILLION\",\"20 TRILLION\",\"100 TRILLION\",\"PMG\",\"PCGS\",\"RADAR\", \"ERROR\",\"MISSING\",\n",
    "               \"MILLION\",\"BILLIONS\",\"BILLION\",\"MILLIONS\",\"NONCURRENCY\",\"SET\",\"PIECES\",\"LOT\",\"CONSECUTIVE\", \"REPLACEMENT\",\n",
    "               \"BUNDLE\",\"BRICK\",\"FOIL\",\"NON-CURRENCY\",\"PCS\",\"SHOP ON EBAY\",\"SOUVENIR\",\"SLIVER\",\"GOLD\",\"ONE HUNDRED TRILLION\",\"100 HUNDRED TRILLION\"]\n",
    "\n",
    "def check_combinationsNA(sentence):\n",
    "    for word in combinations:\n",
    "        if word in sentence:\n",
    "            return False\n",
    "    return True\n",
    "\n",
    "df_copy = df[df[\"Title\"].apply(check_combinationsNA)]\n",
    "\n",
    "#because a single 50 TRILLION bank note exist between the price range of 50 and 700\n",
    "df_copy = df_copy[(df[\"Price\"] >= 50) & (df[\"Price\"] <= 700)]\n"
   ]
  },
  {
   "cell_type": "code",
   "execution_count": 105,
   "id": "be9db025",
   "metadata": {},
   "outputs": [],
   "source": [
    "df = df_copy.sort_values(\"Price\",ascending=False)"
   ]
  },
  {
   "cell_type": "markdown",
   "id": "c92cb57f",
   "metadata": {
    "id": "c92cb57f"
   },
   "source": [
    "# Exporting as CSV"
   ]
  },
  {
   "cell_type": "code",
   "execution_count": 106,
   "id": "8f03dc26",
   "metadata": {
    "id": "8f03dc26"
   },
   "outputs": [],
   "source": [
    "#df.to_csv(f'{\"Zimbabwe 50 Trillion\"}.csv', index=False)"
   ]
  },
  {
   "cell_type": "code",
   "execution_count": 107,
   "id": "d8fc2db7",
   "metadata": {},
   "outputs": [],
   "source": [
    "df.to_excel(f'{\"Zimbabwe 50 Trillion\"}.xlsx', sheet_name=\"50T\", index=False)"
   ]
  },
  {
   "cell_type": "code",
   "execution_count": 108,
   "id": "6ccdb8df",
   "metadata": {
    "colab": {
     "base_uri": "https://localhost:8080/",
     "height": 206
    },
    "id": "6ccdb8df",
    "outputId": "5bdda232-2a83-4ea5-a3a0-0d7cd96eb8e1"
   },
   "outputs": [
    {
     "data": {
      "text/html": [
       "<div>\n",
       "<style scoped>\n",
       "    .dataframe tbody tr th:only-of-type {\n",
       "        vertical-align: middle;\n",
       "    }\n",
       "\n",
       "    .dataframe tbody tr th {\n",
       "        vertical-align: top;\n",
       "    }\n",
       "\n",
       "    .dataframe thead th {\n",
       "        text-align: right;\n",
       "    }\n",
       "</style>\n",
       "<table border=\"1\" class=\"dataframe\">\n",
       "  <thead>\n",
       "    <tr style=\"text-align: right;\">\n",
       "      <th></th>\n",
       "      <th>Sr_No</th>\n",
       "      <th>Title</th>\n",
       "      <th>Price</th>\n",
       "      <th>Seller Info</th>\n",
       "      <th>Condition</th>\n",
       "    </tr>\n",
       "  </thead>\n",
       "  <tbody>\n",
       "    <tr>\n",
       "      <th>705</th>\n",
       "      <td>705</td>\n",
       "      <td>ZIMBABWE 2008 50 TRILLION DOLLAR 8 BANKNOTES AA UNC TOTAL 400 TRILLION ZIM</td>\n",
       "      <td>549.95</td>\n",
       "      <td>vegibud038m (850) 100%</td>\n",
       "      <td>UNC</td>\n",
       "    </tr>\n",
       "    <tr>\n",
       "      <th>821</th>\n",
       "      <td>821</td>\n",
       "      <td>SAME END SERIAL NUMBER ZIMBABWE 20 50 TRILLION DOLLARS 2008 UNC 100% VINTAGE Z</td>\n",
       "      <td>435.08</td>\n",
       "      <td>chubbycatcoins-tmnpre89 (474) 99%</td>\n",
       "      <td>UNC</td>\n",
       "    </tr>\n",
       "    <tr>\n",
       "      <th>4</th>\n",
       "      <td>4</td>\n",
       "      <td>ZIMBABWE 50 TRILLION DOLLAR BILL AA2008 UNCIRCULATED 100% COA GENUINE 10 BILLS</td>\n",
       "      <td>400.00</td>\n",
       "      <td>100trillions (7,384) 99.8%</td>\n",
       "      <td>UNC</td>\n",
       "    </tr>\n",
       "    <tr>\n",
       "      <th>677</th>\n",
       "      <td>677</td>\n",
       "      <td>ZIMBABWE 50 TRILLION DOLLARS BANKNOTES</td>\n",
       "      <td>399.00</td>\n",
       "      <td>jacktram (473) 100%</td>\n",
       "      <td>None</td>\n",
       "    </tr>\n",
       "    <tr>\n",
       "      <th>262</th>\n",
       "      <td>262</td>\n",
       "      <td>10 NOTE ZIMBABWE 50 TRILLION DOLLARS 2008 P88 AA 100 % AUTHENTIC UV UNC COA</td>\n",
       "      <td>389.95</td>\n",
       "      <td>j.expressions (2,160) 100%</td>\n",
       "      <td>UNC</td>\n",
       "    </tr>\n",
       "    <tr>\n",
       "      <th>...</th>\n",
       "      <td>...</td>\n",
       "      <td>...</td>\n",
       "      <td>...</td>\n",
       "      <td>...</td>\n",
       "      <td>...</td>\n",
       "    </tr>\n",
       "    <tr>\n",
       "      <th>965</th>\n",
       "      <td>965</td>\n",
       "      <td>50 TRILLION DOLLARS ZIMBABWE BANKNOTE</td>\n",
       "      <td>53.26</td>\n",
       "      <td>world_paper_money_emporium (6,321) 99.6%</td>\n",
       "      <td>None</td>\n",
       "    </tr>\n",
       "    <tr>\n",
       "      <th>1546</th>\n",
       "      <td>1546</td>\n",
       "      <td>50 TRILLION DOLLARS ZIMBABWE BANKNOTE</td>\n",
       "      <td>53.26</td>\n",
       "      <td>world_paper_money_emporium (6,321) 99.6%</td>\n",
       "      <td>None</td>\n",
       "    </tr>\n",
       "    <tr>\n",
       "      <th>533</th>\n",
       "      <td>533</td>\n",
       "      <td>50 TRILLION DOLLARS ZIMBABWE 2008 AA COA UNC AUTHENTIC BANKNOTE</td>\n",
       "      <td>51.12</td>\n",
       "      <td>mr.coincanada (529) 100%</td>\n",
       "      <td>UNC</td>\n",
       "    </tr>\n",
       "    <tr>\n",
       "      <th>81</th>\n",
       "      <td>81</td>\n",
       "      <td>2008 50 TRILLION DOLLARS ZIMBABWE BANKNOTE AA  100 SERIES</td>\n",
       "      <td>50.00</td>\n",
       "      <td>2urgse (594) 100%</td>\n",
       "      <td>None</td>\n",
       "    </tr>\n",
       "    <tr>\n",
       "      <th>859</th>\n",
       "      <td>859</td>\n",
       "      <td>ZIMBABWE 50 TRILLION DOLLAR BANKNOTE CRISP 2008</td>\n",
       "      <td>50.00</td>\n",
       "      <td>k*iverson (3,389) 100%</td>\n",
       "      <td>None</td>\n",
       "    </tr>\n",
       "  </tbody>\n",
       "</table>\n",
       "<p>215 rows × 5 columns</p>\n",
       "</div>"
      ],
      "text/plain": [
       "      Sr_No  \\\n",
       "705     705   \n",
       "821     821   \n",
       "4         4   \n",
       "677     677   \n",
       "262     262   \n",
       "...     ...   \n",
       "965     965   \n",
       "1546   1546   \n",
       "533     533   \n",
       "81       81   \n",
       "859     859   \n",
       "\n",
       "                                                                               Title  \\\n",
       "705       ZIMBABWE 2008 50 TRILLION DOLLAR 8 BANKNOTES AA UNC TOTAL 400 TRILLION ZIM   \n",
       "821   SAME END SERIAL NUMBER ZIMBABWE 20 50 TRILLION DOLLARS 2008 UNC 100% VINTAGE Z   \n",
       "4     ZIMBABWE 50 TRILLION DOLLAR BILL AA2008 UNCIRCULATED 100% COA GENUINE 10 BILLS   \n",
       "677                                           ZIMBABWE 50 TRILLION DOLLARS BANKNOTES   \n",
       "262      10 NOTE ZIMBABWE 50 TRILLION DOLLARS 2008 P88 AA 100 % AUTHENTIC UV UNC COA   \n",
       "...                                                                              ...   \n",
       "965                                            50 TRILLION DOLLARS ZIMBABWE BANKNOTE   \n",
       "1546                                           50 TRILLION DOLLARS ZIMBABWE BANKNOTE   \n",
       "533                  50 TRILLION DOLLARS ZIMBABWE 2008 AA COA UNC AUTHENTIC BANKNOTE   \n",
       "81                         2008 50 TRILLION DOLLARS ZIMBABWE BANKNOTE AA  100 SERIES   \n",
       "859                                  ZIMBABWE 50 TRILLION DOLLAR BANKNOTE CRISP 2008   \n",
       "\n",
       "       Price                               Seller Info Condition  \n",
       "705   549.95                    vegibud038m (850) 100%       UNC  \n",
       "821   435.08         chubbycatcoins-tmnpre89 (474) 99%       UNC  \n",
       "4     400.00                100trillions (7,384) 99.8%       UNC  \n",
       "677   399.00                       jacktram (473) 100%      None  \n",
       "262   389.95                j.expressions (2,160) 100%       UNC  \n",
       "...      ...                                       ...       ...  \n",
       "965    53.26  world_paper_money_emporium (6,321) 99.6%      None  \n",
       "1546   53.26  world_paper_money_emporium (6,321) 99.6%      None  \n",
       "533    51.12                  mr.coincanada (529) 100%       UNC  \n",
       "81     50.00                         2urgse (594) 100%      None  \n",
       "859    50.00                    k*iverson (3,389) 100%      None  \n",
       "\n",
       "[215 rows x 5 columns]"
      ]
     },
     "execution_count": 108,
     "metadata": {},
     "output_type": "execute_result"
    }
   ],
   "source": [
    "df"
   ]
  },
  {
   "cell_type": "markdown",
   "id": "44aa8e7c",
   "metadata": {
    "id": "44aa8e7c"
   },
   "source": [
    "1. new/unc/uncirculated\n",
    "2. used/circulated/damaged\n",
    "\n",
    "- uppercase title\n",
    "- trim title - leading and trailing spaces\n",
    "- zimbabwe 100 trillion\n",
    "- for 1 banknote"
   ]
  }
 ],
 "metadata": {
  "colab": {
   "provenance": []
  },
  "kernelspec": {
   "display_name": "Python 3 (ipykernel)",
   "language": "python",
   "name": "python3"
  },
  "language_info": {
   "codemirror_mode": {
    "name": "ipython",
    "version": 3
   },
   "file_extension": ".py",
   "mimetype": "text/x-python",
   "name": "python",
   "nbconvert_exporter": "python",
   "pygments_lexer": "ipython3",
   "version": "3.9.13"
  }
 },
 "nbformat": 4,
 "nbformat_minor": 5
}
