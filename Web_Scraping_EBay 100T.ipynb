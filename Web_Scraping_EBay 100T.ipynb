{
 "cells": [
  {
   "cell_type": "code",
   "execution_count": 231,
   "id": "c855873a",
   "metadata": {},
   "outputs": [],
   "source": [
    "# installing neccesary libraries\n",
    "\n",
    "# pip install requests_html\n",
    "# pip install bs4\n",
    "# pip install pandas\n",
    "# pip install re\n",
    "# pip install seaborn\n",
    "# pip install matplotlib"
   ]
  },
  {
   "cell_type": "markdown",
   "id": "6449ef9e",
   "metadata": {
    "id": "6449ef9e"
   },
   "source": [
    "# Libraries"
   ]
  },
  {
   "cell_type": "code",
   "execution_count": 232,
   "id": "3f185458",
   "metadata": {
    "id": "3f185458"
   },
   "outputs": [],
   "source": [
    "from requests_html import HTMLSession\n",
    "from bs4 import BeautifulSoup\n",
    "import pandas as pd\n",
    "from matplotlib import pyplot as plt\n",
    "import seaborn as sns\n",
    "import re\n",
    "\n",
    "%matplotlib inline\n",
    "\n",
    "pd.set_option(\"display.max_colwidth\",None)"
   ]
  },
  {
   "cell_type": "markdown",
   "id": "41cd3c2c",
   "metadata": {
    "id": "41cd3c2c"
   },
   "source": [
    "# Webscraping Code"
   ]
  },
  {
   "cell_type": "code",
   "execution_count": 233,
   "id": "09ef2ab9",
   "metadata": {
    "id": "09ef2ab9"
   },
   "outputs": [],
   "source": [
    "#creating html session\n",
    "s = HTMLSession()\n",
    "\n",
    "#empty list to store the data\n",
    "data = []\n",
    "sr_no = -1\n",
    "\n",
    "#taking input from user to get keyword \n",
    "keyword = \"Zimbabwe 100 Trillion\"\n",
    "#input('Enter your keyword here: ')\n",
    "\n",
    "#gathering urls for extracting data from first six pages\n",
    "urls = ['https://www.ebay.com/sch/i.html?_from=R40&_nkw={}&_sacat=0&_ipg=240&_pgn={}&rt=nc'.format(keyword, x) for x in range(1,2)]\n",
    "\n",
    "for url in urls:\n",
    "    page = s.get(url.strip())\n",
    "    soup = BeautifulSoup(page.text, \"html.parser\")\n",
    "\n",
    "    # Find all of the elements with the class \"s-item__info.clearfix\"\n",
    "    items = soup.find_all(class_ = \"s-item__info clearfix\")\n",
    "\n",
    "    # Loop through the items and extract the data and append it to the data list\n",
    "    for item in items:\n",
    "        title = item.find(class_=\"s-item__title\").get_text()\n",
    "        price = item.find(class_=\"s-item__price\").get_text()\n",
    "        #condition = item.find(class_ = \"SECONDARY_INFO\").get_text()\n",
    "        sr_no = sr_no+1\n",
    "        \n",
    "        try:\n",
    "            seller_info = item.find(class_=\"s-item__seller-info\").get_text()\n",
    "        except:\n",
    "            seller_info = \"N/A\"\n",
    "    \n",
    "        data.append([sr_no,title, price, seller_info])\n"
   ]
  },
  {
   "cell_type": "markdown",
   "id": "11627bbe",
   "metadata": {
    "id": "11627bbe"
   },
   "source": [
    "# DataFrame"
   ]
  },
  {
   "cell_type": "code",
   "execution_count": 234,
   "id": "ad5c440b",
   "metadata": {
    "colab": {
     "base_uri": "https://localhost:8080/",
     "height": 206
    },
    "id": "ad5c440b",
    "outputId": "a37f77f9-7f25-44cf-b81b-1a027931a9ea"
   },
   "outputs": [
    {
     "data": {
      "text/html": [
       "<div>\n",
       "<style scoped>\n",
       "    .dataframe tbody tr th:only-of-type {\n",
       "        vertical-align: middle;\n",
       "    }\n",
       "\n",
       "    .dataframe tbody tr th {\n",
       "        vertical-align: top;\n",
       "    }\n",
       "\n",
       "    .dataframe thead th {\n",
       "        text-align: right;\n",
       "    }\n",
       "</style>\n",
       "<table border=\"1\" class=\"dataframe\">\n",
       "  <thead>\n",
       "    <tr style=\"text-align: right;\">\n",
       "      <th></th>\n",
       "      <th>Sr_No</th>\n",
       "      <th>Title</th>\n",
       "      <th>Price</th>\n",
       "      <th>Seller Info</th>\n",
       "    </tr>\n",
       "  </thead>\n",
       "  <tbody>\n",
       "    <tr>\n",
       "      <th>1</th>\n",
       "      <td>1</td>\n",
       "      <td>Zimbabwe 100 Trillion Banknote 1 Note AA/2008, P-91 UNC Authenticity Guaranteed!</td>\n",
       "      <td>$128.99</td>\n",
       "      <td>100trillions (7,384) 99.8%</td>\n",
       "    </tr>\n",
       "    <tr>\n",
       "      <th>2</th>\n",
       "      <td>2</td>\n",
       "      <td>100 TRILLION DOLLAR ZIMBABWE AA 2008 SERIES P91 - USED Condition, FAST SHIP, COA</td>\n",
       "      <td>$129.95</td>\n",
       "      <td>collectibles-currency (3,291) 99.9%</td>\n",
       "    </tr>\n",
       "    <tr>\n",
       "      <th>3</th>\n",
       "      <td>3</td>\n",
       "      <td>Zimbabwe 100 Trillion Dollars 2008 AA P-91 Banknote New UNC Zim Currency w/COA</td>\n",
       "      <td>$217.17</td>\n",
       "      <td>oceancoinandcard (1,106) 100%</td>\n",
       "    </tr>\n",
       "    <tr>\n",
       "      <th>4</th>\n",
       "      <td>4</td>\n",
       "      <td>Zimbabwe 50 TRILLION DOLLAR BILL AA/2008 UNC P-90 100% COA genuine Sale FEW LEFT</td>\n",
       "      <td>$41.99</td>\n",
       "      <td>100trillions (7,384) 99.8%</td>\n",
       "    </tr>\n",
       "    <tr>\n",
       "      <th>5</th>\n",
       "      <td>5</td>\n",
       "      <td>10X Zimbabwe 100 Trillion Dollar Banknote Non-circulating World Collection Bill</td>\n",
       "      <td>$18.79</td>\n",
       "      <td>arthehan (2,294) 99.3%</td>\n",
       "    </tr>\n",
       "    <tr>\n",
       "      <th>...</th>\n",
       "      <td>...</td>\n",
       "      <td>...</td>\n",
       "      <td>...</td>\n",
       "      <td>...</td>\n",
       "    </tr>\n",
       "    <tr>\n",
       "      <th>116</th>\n",
       "      <td>116</td>\n",
       "      <td>New Listing20Pcs Zimbabwe 100 Trillion Dollar Banknote Non-circulating Collection Gift</td>\n",
       "      <td>$13.99</td>\n",
       "      <td>dainini (170) 96.2%</td>\n",
       "    </tr>\n",
       "    <tr>\n",
       "      <th>117</th>\n",
       "      <td>117</td>\n",
       "      <td>10× $100 One Hundred Trillion Dollar Zimbabwe Silver Blue Banknote Set /w Roc WR</td>\n",
       "      <td>$16.99</td>\n",
       "      <td>usa-videogameparts (14,282) 98.6%</td>\n",
       "    </tr>\n",
       "    <tr>\n",
       "      <th>118</th>\n",
       "      <td>118</td>\n",
       "      <td>New Listing10Pcs Zimbabwe $100 Trillion Dollars Silver Banknote Novelty Non-Currency US</td>\n",
       "      <td>$15.88</td>\n",
       "      <td>dainini (170) 96.2%</td>\n",
       "    </tr>\n",
       "    <tr>\n",
       "      <th>119</th>\n",
       "      <td>119</td>\n",
       "      <td>TT PK 91 2007 ZIMBABWE 100 TRILLION AND 1 DOLLAR SET OF 2 EXTREMES PMG 67 EPQ</td>\n",
       "      <td>$87.00</td>\n",
       "      <td>trustedtraditions.com (37,840) 100%</td>\n",
       "    </tr>\n",
       "    <tr>\n",
       "      <th>120</th>\n",
       "      <td>120</td>\n",
       "      <td>ZIMBABWE  2008 100 BILLION DOLLARS SPECIAL AGRO CHEQUE BANKNOTE LOT AU/UNC 🌈⭐🌈</td>\n",
       "      <td>$9.99</td>\n",
       "      <td>welike2buyandsell (26,844) 100%</td>\n",
       "    </tr>\n",
       "  </tbody>\n",
       "</table>\n",
       "<p>120 rows × 4 columns</p>\n",
       "</div>"
      ],
      "text/plain": [
       "     Sr_No  \\\n",
       "1        1   \n",
       "2        2   \n",
       "3        3   \n",
       "4        4   \n",
       "5        5   \n",
       "..     ...   \n",
       "116    116   \n",
       "117    117   \n",
       "118    118   \n",
       "119    119   \n",
       "120    120   \n",
       "\n",
       "                                                                                       Title  \\\n",
       "1           Zimbabwe 100 Trillion Banknote 1 Note AA/2008, P-91 UNC Authenticity Guaranteed!   \n",
       "2           100 TRILLION DOLLAR ZIMBABWE AA 2008 SERIES P91 - USED Condition, FAST SHIP, COA   \n",
       "3             Zimbabwe 100 Trillion Dollars 2008 AA P-91 Banknote New UNC Zim Currency w/COA   \n",
       "4           Zimbabwe 50 TRILLION DOLLAR BILL AA/2008 UNC P-90 100% COA genuine Sale FEW LEFT   \n",
       "5            10X Zimbabwe 100 Trillion Dollar Banknote Non-circulating World Collection Bill   \n",
       "..                                                                                       ...   \n",
       "116   New Listing20Pcs Zimbabwe 100 Trillion Dollar Banknote Non-circulating Collection Gift   \n",
       "117         10× $100 One Hundred Trillion Dollar Zimbabwe Silver Blue Banknote Set /w Roc WR   \n",
       "118  New Listing10Pcs Zimbabwe $100 Trillion Dollars Silver Banknote Novelty Non-Currency US   \n",
       "119            TT PK 91 2007 ZIMBABWE 100 TRILLION AND 1 DOLLAR SET OF 2 EXTREMES PMG 67 EPQ   \n",
       "120           ZIMBABWE  2008 100 BILLION DOLLARS SPECIAL AGRO CHEQUE BANKNOTE LOT AU/UNC 🌈⭐🌈   \n",
       "\n",
       "       Price                          Seller Info  \n",
       "1    $128.99           100trillions (7,384) 99.8%  \n",
       "2    $129.95  collectibles-currency (3,291) 99.9%  \n",
       "3    $217.17        oceancoinandcard (1,106) 100%  \n",
       "4     $41.99           100trillions (7,384) 99.8%  \n",
       "5     $18.79               arthehan (2,294) 99.3%  \n",
       "..       ...                                  ...  \n",
       "116   $13.99                  dainini (170) 96.2%  \n",
       "117   $16.99    usa-videogameparts (14,282) 98.6%  \n",
       "118   $15.88                  dainini (170) 96.2%  \n",
       "119   $87.00  trustedtraditions.com (37,840) 100%  \n",
       "120    $9.99      welike2buyandsell (26,844) 100%  \n",
       "\n",
       "[120 rows x 4 columns]"
      ]
     },
     "execution_count": 234,
     "metadata": {},
     "output_type": "execute_result"
    }
   ],
   "source": [
    "df = pd.DataFrame(data, columns=[\"Sr_No\",\"Title\",\"Price\",\"Seller Info\"])\n",
    "df.drop(0,axis=0,inplace=True)\n",
    "df.head(120)"
   ]
  },
  {
   "cell_type": "markdown",
   "id": "95d8ba64",
   "metadata": {
    "id": "95d8ba64"
   },
   "source": [
    "# Data Preparation"
   ]
  },
  {
   "attachments": {},
   "cell_type": "markdown",
   "id": "1e842e5a",
   "metadata": {
    "id": "1e842e5a"
   },
   "source": [
    "**Converting to uppercase**"
   ]
  },
  {
   "cell_type": "markdown",
   "id": "73a679b7",
   "metadata": {
    "id": "73a679b7"
   },
   "source": [
    "df[\"Title\"] = df[\"Title\"].str.upper()\n",
    "df[\"List of words\"] = df[\"Title\"].str.split(' ')\n",
    "df.head()"
   ]
  },
  {
   "cell_type": "code",
   "execution_count": 235,
   "id": "d474c361",
   "metadata": {
    "colab": {
     "base_uri": "https://localhost:8080/"
    },
    "id": "d474c361",
    "outputId": "a6882b3d-8548-4043-f4c8-df4bb0a30a0e"
   },
   "outputs": [
    {
     "data": {
      "text/plain": [
       "Sr_No           int64\n",
       "Title          object\n",
       "Price          object\n",
       "Seller Info    object\n",
       "dtype: object"
      ]
     },
     "execution_count": 235,
     "metadata": {},
     "output_type": "execute_result"
    }
   ],
   "source": [
    "df[\"Title\"] = df[\"Title\"].str.upper()\n",
    "df.dtypes"
   ]
  },
  {
   "cell_type": "markdown",
   "id": "a35e9dce",
   "metadata": {
    "id": "a35e9dce"
   },
   "source": [
    "**Removing the rows that had prices in Range format**"
   ]
  },
  {
   "cell_type": "code",
   "execution_count": 236,
   "id": "7220ca90",
   "metadata": {
    "colab": {
     "base_uri": "https://localhost:8080/"
    },
    "id": "7220ca90",
    "outputId": "6a0f8937-6d9a-4ea2-93b9-2e56f0af9c89"
   },
   "outputs": [
    {
     "name": "stdout",
     "output_type": "stream",
     "text": [
      "False    240\n",
      "Name: Price, dtype: int64\n"
     ]
    }
   ],
   "source": [
    "mask = df['Price'].str.len() > 11\n",
    "\n",
    "print(mask.value_counts())\n",
    "\n",
    "df = df.drop(index=df[mask].index)"
   ]
  },
  {
   "cell_type": "markdown",
   "id": "40ffb031",
   "metadata": {
    "id": "40ffb031"
   },
   "source": [
    "**Converting the datatype of price from string to numeric**"
   ]
  },
  {
   "cell_type": "code",
   "execution_count": 237,
   "id": "5af098b5",
   "metadata": {
    "colab": {
     "base_uri": "https://localhost:8080/"
    },
    "id": "5af098b5",
    "outputId": "010e403f-8103-431b-a66c-c804c1df7094"
   },
   "outputs": [
    {
     "name": "stderr",
     "output_type": "stream",
     "text": [
      "/var/folders/yn/bh3l87k551bc5m4xkp00gxxr0000gn/T/ipykernel_80543/3684364602.py:1: FutureWarning: The default value of regex will change from True to False in a future version. In addition, single character regular expressions will *not* be treated as literal strings when regex=True.\n",
      "  df['Price'] = df['Price'].str.replace('$', '')\n"
     ]
    }
   ],
   "source": [
    "df['Price'] = df['Price'].str.replace('$', '')\n",
    "df['Price'] = df['Price'].str.replace(',', '')\n",
    "df['Price'] = pd.to_numeric(df[\"Price\"])"
   ]
  },
  {
   "cell_type": "markdown",
   "id": "ec3b3797",
   "metadata": {
    "id": "ec3b3797"
   },
   "source": [
    "**Sorting the data in descending order**"
   ]
  },
  {
   "cell_type": "code",
   "execution_count": 238,
   "id": "8aea29e7",
   "metadata": {
    "id": "8aea29e7"
   },
   "outputs": [],
   "source": [
    "df_desc = df.sort_values(\"Price\",ascending=False)"
   ]
  },
  {
   "attachments": {},
   "cell_type": "markdown",
   "id": "3tXEER0W-BuU",
   "metadata": {
    "id": "3tXEER0W-BuU"
   },
   "source": [
    "**Data between price range of 50 and 300**"
   ]
  },
  {
   "cell_type": "code",
   "execution_count": 239,
   "id": "a9b647fa",
   "metadata": {
    "id": "a9b647fa"
   },
   "outputs": [],
   "source": [
    "df2 = df[(df['Price'] >= 50) & (df['Price'] <= 300)]"
   ]
  },
  {
   "cell_type": "code",
   "execution_count": 240,
   "id": "bf0c3206",
   "metadata": {
    "id": "bf0c3206"
   },
   "outputs": [],
   "source": [
    "df2_sorted = df2.sort_values(\"Price\",ascending=False)"
   ]
  },
  {
   "cell_type": "code",
   "execution_count": 241,
   "id": "3c31c98d",
   "metadata": {
    "colab": {
     "base_uri": "https://localhost:8080/"
    },
    "id": "3c31c98d",
    "outputId": "a9ea999d-71c4-4cda-c283-9647a9ff245e"
   },
   "outputs": [
    {
     "data": {
      "text/plain": [
       "(81, 4)"
      ]
     },
     "execution_count": 241,
     "metadata": {},
     "output_type": "execute_result"
    }
   ],
   "source": [
    "df2.shape"
   ]
  },
  {
   "cell_type": "markdown",
   "id": "JoqV8T4YCdFh",
   "metadata": {
    "id": "JoqV8T4YCdFh"
   },
   "source": [
    "**Common words**"
   ]
  },
  {
   "cell_type": "code",
   "execution_count": 242,
   "id": "a13c214c",
   "metadata": {
    "id": "a13c214c"
   },
   "outputs": [
    {
     "data": {
      "text/plain": [
       "ZIMBABWE    227\n",
       "TRILLION    202\n",
       "100         200\n",
       "2008         97\n",
       "DOLLARS      94\n",
       "dtype: int64"
      ]
     },
     "execution_count": 242,
     "metadata": {},
     "output_type": "execute_result"
    }
   ],
   "source": [
    "#pd.options.display.max_rows = None\n",
    "common = pd.Series(' '.join(df['Title']).split()).value_counts()\n",
    "common[0:5]"
   ]
  },
  {
   "cell_type": "code",
   "execution_count": 243,
   "id": "bdb3a981",
   "metadata": {
    "id": "bdb3a981"
   },
   "outputs": [],
   "source": [
    "# trim title - leading and trailing spaces\n",
    "df['Title'] = df['Title'].str.strip()"
   ]
  },
  {
   "cell_type": "markdown",
   "id": "Xl0tl6hs_8i8",
   "metadata": {
    "id": "Xl0tl6hs_8i8"
   },
   "source": [
    "**Remove unnecesary special characters**"
   ]
  },
  {
   "cell_type": "code",
   "execution_count": 244,
   "id": "U63pJ80Gm7_z",
   "metadata": {
    "id": "U63pJ80Gm7_z"
   },
   "outputs": [],
   "source": [
    "def clean_sentence(sentence):\n",
    "    return re.sub(r'[^a-zA-Z0-9\\s\\%]+', '', sentence)\n",
    "\n",
    "df['Title'] = df['Title'].apply(clean_sentence)"
   ]
  },
  {
   "cell_type": "markdown",
   "id": "Ip-l-EtcDcLC",
   "metadata": {
    "id": "Ip-l-EtcDcLC"
   },
   "source": [
    "**Condition Filter**"
   ]
  },
  {
   "cell_type": "code",
   "execution_count": 245,
   "id": "d04b2316",
   "metadata": {
    "colab": {
     "base_uri": "https://localhost:8080/",
     "height": 206
    },
    "id": "d04b2316",
    "outputId": "bf22016e-e7a7-4e9f-855f-c5a76ce3df0b"
   },
   "outputs": [
    {
     "data": {
      "text/html": [
       "<div>\n",
       "<style scoped>\n",
       "    .dataframe tbody tr th:only-of-type {\n",
       "        vertical-align: middle;\n",
       "    }\n",
       "\n",
       "    .dataframe tbody tr th {\n",
       "        vertical-align: top;\n",
       "    }\n",
       "\n",
       "    .dataframe thead th {\n",
       "        text-align: right;\n",
       "    }\n",
       "</style>\n",
       "<table border=\"1\" class=\"dataframe\">\n",
       "  <thead>\n",
       "    <tr style=\"text-align: right;\">\n",
       "      <th></th>\n",
       "      <th>Sr_No</th>\n",
       "      <th>Title</th>\n",
       "      <th>Price</th>\n",
       "      <th>Seller Info</th>\n",
       "      <th>Condition</th>\n",
       "    </tr>\n",
       "  </thead>\n",
       "  <tbody>\n",
       "    <tr>\n",
       "      <th>1</th>\n",
       "      <td>1</td>\n",
       "      <td>ZIMBABWE 100 TRILLION BANKNOTE 1 NOTE AA2008 P91 UNC AUTHENTICITY GUARANTEED</td>\n",
       "      <td>128.99</td>\n",
       "      <td>100trillions (7,384) 99.8%</td>\n",
       "      <td>UNC</td>\n",
       "    </tr>\n",
       "    <tr>\n",
       "      <th>2</th>\n",
       "      <td>2</td>\n",
       "      <td>100 TRILLION DOLLAR ZIMBABWE AA 2008 SERIES P91  USED CONDITION FAST SHIP COA</td>\n",
       "      <td>129.95</td>\n",
       "      <td>collectibles-currency (3,291) 99.9%</td>\n",
       "      <td>USED</td>\n",
       "    </tr>\n",
       "    <tr>\n",
       "      <th>3</th>\n",
       "      <td>3</td>\n",
       "      <td>ZIMBABWE 100 TRILLION DOLLARS 2008 AA P91 BANKNOTE NEW UNC ZIM CURRENCY WCOA</td>\n",
       "      <td>217.17</td>\n",
       "      <td>oceancoinandcard (1,106) 100%</td>\n",
       "      <td>UNC</td>\n",
       "    </tr>\n",
       "    <tr>\n",
       "      <th>4</th>\n",
       "      <td>4</td>\n",
       "      <td>ZIMBABWE 50 TRILLION DOLLAR BILL AA2008 UNC P90 100% COA GENUINE SALE FEW LEFT</td>\n",
       "      <td>41.99</td>\n",
       "      <td>100trillions (7,384) 99.8%</td>\n",
       "      <td>UNC</td>\n",
       "    </tr>\n",
       "    <tr>\n",
       "      <th>5</th>\n",
       "      <td>5</td>\n",
       "      <td>10X ZIMBABWE 100 TRILLION DOLLAR BANKNOTE NONCIRCULATING WORLD COLLECTION BILL</td>\n",
       "      <td>18.79</td>\n",
       "      <td>arthehan (2,294) 99.3%</td>\n",
       "      <td>None</td>\n",
       "    </tr>\n",
       "  </tbody>\n",
       "</table>\n",
       "</div>"
      ],
      "text/plain": [
       "   Sr_No  \\\n",
       "1      1   \n",
       "2      2   \n",
       "3      3   \n",
       "4      4   \n",
       "5      5   \n",
       "\n",
       "                                                                            Title  \\\n",
       "1    ZIMBABWE 100 TRILLION BANKNOTE 1 NOTE AA2008 P91 UNC AUTHENTICITY GUARANTEED   \n",
       "2   100 TRILLION DOLLAR ZIMBABWE AA 2008 SERIES P91  USED CONDITION FAST SHIP COA   \n",
       "3    ZIMBABWE 100 TRILLION DOLLARS 2008 AA P91 BANKNOTE NEW UNC ZIM CURRENCY WCOA   \n",
       "4  ZIMBABWE 50 TRILLION DOLLAR BILL AA2008 UNC P90 100% COA GENUINE SALE FEW LEFT   \n",
       "5  10X ZIMBABWE 100 TRILLION DOLLAR BANKNOTE NONCIRCULATING WORLD COLLECTION BILL   \n",
       "\n",
       "    Price                          Seller Info Condition  \n",
       "1  128.99           100trillions (7,384) 99.8%       UNC  \n",
       "2  129.95  collectibles-currency (3,291) 99.9%      USED  \n",
       "3  217.17        oceancoinandcard (1,106) 100%       UNC  \n",
       "4   41.99           100trillions (7,384) 99.8%       UNC  \n",
       "5   18.79               arthehan (2,294) 99.3%      None  "
      ]
     },
     "execution_count": 245,
     "metadata": {},
     "output_type": "execute_result"
    }
   ],
   "source": [
    "# making a new column for condition of the prod\n",
    "\n",
    "condition_filter = [\"UNC\",\"CIRCULATED\",\"UNCIRCULATED\",\"NEW\",\"DAMAGED\",\"USED\",\"NON-CIRCULATING\"]\n",
    "\n",
    "def check_word(sentence):\n",
    "    for word in condition_filter:\n",
    "        if word in sentence:\n",
    "            return word\n",
    "    return None\n",
    "\n",
    "df['Condition'] = df[\"Title\"].apply(check_word)\n",
    "df.head()"
   ]
  },
  {
   "cell_type": "code",
   "execution_count": 246,
   "id": "tr5cYzI5pfZq",
   "metadata": {
    "colab": {
     "base_uri": "https://localhost:8080/"
    },
    "id": "tr5cYzI5pfZq",
    "outputId": "a66f86b3-2251-44fc-a239-a0e3c77bf99f"
   },
   "outputs": [
    {
     "name": "stderr",
     "output_type": "stream",
     "text": [
      "/var/folders/yn/bh3l87k551bc5m4xkp00gxxr0000gn/T/ipykernel_80543/434604522.py:14: UserWarning: Boolean Series key will be reindexed to match DataFrame index.\n",
      "  df_copy = df_copy[(df[\"Price\"] >= 50) & (df[\"Price\"] <= 700)]\n"
     ]
    }
   ],
   "source": [
    "combinations= [\"NON CURRENCY\",\"X\",\"GIFT\",\"10X\",\"10 TRILLION\",\"20 TRILLION\",\"50 TRILLION\",\"PMG\",\"PCGS\",\"RADAR\", \"ERROR\",\"MISSING\",\n",
    "               \"MILLION\",\"BILLIONS\",\"BILLION\",\"MILLIONS\",\"NONCURRENCY\",\"SET\",\"PIECES\",\"LOT\",\"CONSECUTIVE\",\"REPLACEMENT\",\n",
    "               \"BUNDLE\",\"BRICK\",\"FOIL\",\"NON-CURRENCY\",\"PCS\",\"SHOP ON EBAY\",\"SOUVENIR\",\"SLIVER\",\"GOLD\"]\n",
    "\n",
    "def check_combinationsNA(sentence):\n",
    "    for word in combinations:\n",
    "        if word in sentence:\n",
    "            return False\n",
    "    return True\n",
    "\n",
    "df_copy = df[df[\"Title\"].apply(check_combinationsNA)]\n",
    "\n",
    "#because a single 100 trillion banknote can range between 50 to 700\n",
    "df_copy = df_copy[(df[\"Price\"] >= 50) & (df[\"Price\"] <= 700)]"
   ]
  },
  {
   "cell_type": "code",
   "execution_count": 247,
   "id": "be9db025",
   "metadata": {},
   "outputs": [],
   "source": [
    "df = df_copy.sort_values(\"Price\",ascending=False)"
   ]
  },
  {
   "cell_type": "markdown",
   "id": "c92cb57f",
   "metadata": {
    "id": "c92cb57f"
   },
   "source": [
    "# Exporting as CSV"
   ]
  },
  {
   "cell_type": "code",
   "execution_count": 248,
   "id": "8f03dc26",
   "metadata": {
    "id": "8f03dc26"
   },
   "outputs": [],
   "source": [
    "df.to_excel(f'{\"Zimbabwe 100 Trillion\"}.xlsx', sheet_name=\"100T\", index=False)"
   ]
  },
  {
   "cell_type": "code",
   "execution_count": 249,
   "id": "6ccdb8df",
   "metadata": {
    "colab": {
     "base_uri": "https://localhost:8080/",
     "height": 206
    },
    "id": "6ccdb8df",
    "outputId": "5bdda232-2a83-4ea5-a3a0-0d7cd96eb8e1"
   },
   "outputs": [],
   "source": [
    "#df.to_csv(\"Zimbabwe 100 Trillion\",index=False)"
   ]
  },
  {
   "cell_type": "code",
   "execution_count": 250,
   "id": "7b785b60",
   "metadata": {},
   "outputs": [
    {
     "data": {
      "text/html": [
       "<div>\n",
       "<style scoped>\n",
       "    .dataframe tbody tr th:only-of-type {\n",
       "        vertical-align: middle;\n",
       "    }\n",
       "\n",
       "    .dataframe tbody tr th {\n",
       "        vertical-align: top;\n",
       "    }\n",
       "\n",
       "    .dataframe thead th {\n",
       "        text-align: right;\n",
       "    }\n",
       "</style>\n",
       "<table border=\"1\" class=\"dataframe\">\n",
       "  <thead>\n",
       "    <tr style=\"text-align: right;\">\n",
       "      <th></th>\n",
       "      <th>Sr_No</th>\n",
       "      <th>Title</th>\n",
       "      <th>Price</th>\n",
       "      <th>Seller Info</th>\n",
       "      <th>Condition</th>\n",
       "    </tr>\n",
       "  </thead>\n",
       "  <tbody>\n",
       "    <tr>\n",
       "      <th>83</th>\n",
       "      <td>83</td>\n",
       "      <td>SEQUENTIAL 2008 P91 100 TRILLION DOLLAR ZIMBABWE BANKNOTES</td>\n",
       "      <td>250.00</td>\n",
       "      <td>jamu_92 (22) 87.5%</td>\n",
       "      <td>None</td>\n",
       "    </tr>\n",
       "    <tr>\n",
       "      <th>3</th>\n",
       "      <td>3</td>\n",
       "      <td>ZIMBABWE 100 TRILLION DOLLARS 2008 AA P91 BANKNOTE NEW UNC ZIM CURRENCY WCOA</td>\n",
       "      <td>217.17</td>\n",
       "      <td>oceancoinandcard (1,106) 100%</td>\n",
       "      <td>UNC</td>\n",
       "    </tr>\n",
       "    <tr>\n",
       "      <th>101</th>\n",
       "      <td>101</td>\n",
       "      <td>AUTHENTIC 100 TRILLION ZIM BOND DOLLARS 2008 ZIMBABWE 2008 AA UNC WITH COA</td>\n",
       "      <td>188.95</td>\n",
       "      <td>banknotecorner (2,070) 100%</td>\n",
       "      <td>UNC</td>\n",
       "    </tr>\n",
       "    <tr>\n",
       "      <th>55</th>\n",
       "      <td>55</td>\n",
       "      <td>100 TRILLION DOLLAR AUTHENTIC ZIM ZIMBABWE 2008 AA BOND COA CERTIFICATE UV PASS</td>\n",
       "      <td>188.95</td>\n",
       "      <td>banknotecorner (2,070) 100%</td>\n",
       "      <td>None</td>\n",
       "    </tr>\n",
       "    <tr>\n",
       "      <th>139</th>\n",
       "      <td>139</td>\n",
       "      <td>UNC 2008 100 TRILLION DOLLARS ZIMBABWE BANKNOTE P91 LARGEST DENOM NOTE CURRENCY</td>\n",
       "      <td>138.95</td>\n",
       "      <td>mbarrcoins (441,366) 100%</td>\n",
       "      <td>UNC</td>\n",
       "    </tr>\n",
       "    <tr>\n",
       "      <th>64</th>\n",
       "      <td>64</td>\n",
       "      <td>2008 100 TRILLION DOLLARS ZIMBABWE BANKNOTE AA P91 GEM UNC NOTE CURRENCY</td>\n",
       "      <td>138.90</td>\n",
       "      <td>mbarrcoins (441,366) 100%</td>\n",
       "      <td>UNC</td>\n",
       "    </tr>\n",
       "    <tr>\n",
       "      <th>7</th>\n",
       "      <td>7</td>\n",
       "      <td>ZIMBABWE 100 TRILLION DOLLAR BILL AA2008 UNCIRCULATED 100% COA GENUINE</td>\n",
       "      <td>129.99</td>\n",
       "      <td>currencyadventure (4,896) 100%</td>\n",
       "      <td>UNC</td>\n",
       "    </tr>\n",
       "    <tr>\n",
       "      <th>222</th>\n",
       "      <td>222</td>\n",
       "      <td>ZIMBABWE 100 TRILLION BANKNOTE 1 NOTE AA2008 P91 UNC AUTHENTICITY GUARANTEED</td>\n",
       "      <td>129.95</td>\n",
       "      <td>rigiddesign (26,075) 100%</td>\n",
       "      <td>UNC</td>\n",
       "    </tr>\n",
       "    <tr>\n",
       "      <th>22</th>\n",
       "      <td>22</td>\n",
       "      <td>100 TRILLION DOLLAR ZIMBABWE AA 2008 SERIES P91 UNCIRCULATED FAST SHIP COA</td>\n",
       "      <td>129.95</td>\n",
       "      <td>collectibles-currency (3,291) 99.9%</td>\n",
       "      <td>UNC</td>\n",
       "    </tr>\n",
       "    <tr>\n",
       "      <th>2</th>\n",
       "      <td>2</td>\n",
       "      <td>100 TRILLION DOLLAR ZIMBABWE AA 2008 SERIES P91  USED CONDITION FAST SHIP COA</td>\n",
       "      <td>129.95</td>\n",
       "      <td>collectibles-currency (3,291) 99.9%</td>\n",
       "      <td>USED</td>\n",
       "    </tr>\n",
       "    <tr>\n",
       "      <th>163</th>\n",
       "      <td>163</td>\n",
       "      <td>ZIMBABWE 100 TRILLION DOLLARS 2008 AA AUTHENTIC UV LIGHT UNC US SELLER COA</td>\n",
       "      <td>129.45</td>\n",
       "      <td>j.expressions (2,160) 100%</td>\n",
       "      <td>UNC</td>\n",
       "    </tr>\n",
       "    <tr>\n",
       "      <th>202</th>\n",
       "      <td>202</td>\n",
       "      <td>ZIMBABWE 100 TRILLION BANKNOTE 1 NOTE AA2008 UNC AUTHENTICITY 36 HOURS ONLY</td>\n",
       "      <td>128.99</td>\n",
       "      <td>100trillions (7,384) 99.8%</td>\n",
       "      <td>UNC</td>\n",
       "    </tr>\n",
       "    <tr>\n",
       "      <th>106</th>\n",
       "      <td>106</td>\n",
       "      <td>ZIMBABWE 100 TRILLION BANKNOTE 1 NOTE AA2008 UNC COA  PARKER SPECIAL</td>\n",
       "      <td>128.99</td>\n",
       "      <td>100trillions (7,384) 99.8%</td>\n",
       "      <td>UNC</td>\n",
       "    </tr>\n",
       "    <tr>\n",
       "      <th>1</th>\n",
       "      <td>1</td>\n",
       "      <td>ZIMBABWE 100 TRILLION BANKNOTE 1 NOTE AA2008 P91 UNC AUTHENTICITY GUARANTEED</td>\n",
       "      <td>128.99</td>\n",
       "      <td>100trillions (7,384) 99.8%</td>\n",
       "      <td>UNC</td>\n",
       "    </tr>\n",
       "    <tr>\n",
       "      <th>13</th>\n",
       "      <td>13</td>\n",
       "      <td>ZIM ZIMBABWE 100 TRILLION 1 BANKNOTE NOTE AA 2008 P91 UNC UV AUTHENTIC COA</td>\n",
       "      <td>128.95</td>\n",
       "      <td>rigiddesign (26,075) 100%</td>\n",
       "      <td>UNC</td>\n",
       "    </tr>\n",
       "    <tr>\n",
       "      <th>92</th>\n",
       "      <td>92</td>\n",
       "      <td>100 TRILLION DOLLARS ZIMBABWE AA 2008 SERIES P91 UNC</td>\n",
       "      <td>127.95</td>\n",
       "      <td>j.expressions (2,160) 100%</td>\n",
       "      <td>UNC</td>\n",
       "    </tr>\n",
       "    <tr>\n",
       "      <th>20</th>\n",
       "      <td>20</td>\n",
       "      <td>ZIMBABWE 100 TRILLION DOLLARS 2008 P91 AA UV LIGHT TESTED UNCIRCULATED UNC COA</td>\n",
       "      <td>124.95</td>\n",
       "      <td>rigiddesign (26,075) 100%</td>\n",
       "      <td>UNC</td>\n",
       "    </tr>\n",
       "    <tr>\n",
       "      <th>209</th>\n",
       "      <td>209</td>\n",
       "      <td>ZIMBABWE BANKNOTE 100 TRILLION DOLLARS 2008  UNC  AUTHENTIC</td>\n",
       "      <td>123.00</td>\n",
       "      <td>alfredinho10-44 (169) 100%</td>\n",
       "      <td>UNC</td>\n",
       "    </tr>\n",
       "    <tr>\n",
       "      <th>53</th>\n",
       "      <td>53</td>\n",
       "      <td>ZIMBABWE 100 TRILLION DOLLARS 2008 P91 AA AUTHENTIC UV LIGHT UNC US SELLER COA</td>\n",
       "      <td>119.95</td>\n",
       "      <td>j.expressions (2,160) 100%</td>\n",
       "      <td>UNC</td>\n",
       "    </tr>\n",
       "    <tr>\n",
       "      <th>145</th>\n",
       "      <td>145</td>\n",
       "      <td>ZIMBABWE 100 TRILLION DOLLARS 2008 P91 AA UV LIGHT TESTED UNCIRCULATED UNC</td>\n",
       "      <td>119.00</td>\n",
       "      <td>benedictum (2,054) 100%</td>\n",
       "      <td>UNC</td>\n",
       "    </tr>\n",
       "    <tr>\n",
       "      <th>176</th>\n",
       "      <td>176</td>\n",
       "      <td>100 TRILLION DOLLAR ZIMBABWE AA 2008 SERIES P91 UNCIRCULATED FAST SHIP COA</td>\n",
       "      <td>119.00</td>\n",
       "      <td>ginoblue69 (633) 0%</td>\n",
       "      <td>UNC</td>\n",
       "    </tr>\n",
       "    <tr>\n",
       "      <th>126</th>\n",
       "      <td>126</td>\n",
       "      <td>2008  100 TRILLION DOLLAR  ZIMBABWE  AA NOTES  100% AUTHENTIC</td>\n",
       "      <td>109.97</td>\n",
       "      <td>mbarrcoins (441,366) 100%</td>\n",
       "      <td>None</td>\n",
       "    </tr>\n",
       "    <tr>\n",
       "      <th>78</th>\n",
       "      <td>78</td>\n",
       "      <td>100 TRILLION DOLLAR ZIMBABWE AA 2008 SERIES P91 UNCIRCULATED</td>\n",
       "      <td>100.00</td>\n",
       "      <td>regiofyi-0 (1) 0%</td>\n",
       "      <td>UNC</td>\n",
       "    </tr>\n",
       "    <tr>\n",
       "      <th>61</th>\n",
       "      <td>61</td>\n",
       "      <td>ZIMBABWE 100 TRILLION DOLLARS BANKNOTE 2008 CHOICE UNCIRCULATED COND PICK</td>\n",
       "      <td>93.00</td>\n",
       "      <td>lgarvinsworld (16,131) 100%</td>\n",
       "      <td>UNC</td>\n",
       "    </tr>\n",
       "    <tr>\n",
       "      <th>24</th>\n",
       "      <td>24</td>\n",
       "      <td>100 TRILLION DOLLAR ZIMBABWE AA 2008 SERIES P91   UNC</td>\n",
       "      <td>88.00</td>\n",
       "      <td>victorian.world (1,513) 99.4%</td>\n",
       "      <td>UNC</td>\n",
       "    </tr>\n",
       "    <tr>\n",
       "      <th>56</th>\n",
       "      <td>56</td>\n",
       "      <td>NEW LISTING100 TRILLION DOLLAR ZIMBABWE AA 2008 SERIES P91   UNC</td>\n",
       "      <td>82.00</td>\n",
       "      <td>victorian.world (1,513) 99.4%</td>\n",
       "      <td>UNC</td>\n",
       "    </tr>\n",
       "    <tr>\n",
       "      <th>50</th>\n",
       "      <td>50</td>\n",
       "      <td>2008 ZIMBABWE 100000000000000 ONE HUNDRED TRILLION DOLLARS NOTE UNC</td>\n",
       "      <td>81.00</td>\n",
       "      <td>choicebu (48,468) 99.9%</td>\n",
       "      <td>UNC</td>\n",
       "    </tr>\n",
       "    <tr>\n",
       "      <th>102</th>\n",
       "      <td>102</td>\n",
       "      <td>100 TRILLION DOLLAR ZIMBABWE 2008 USED CONDITION  AA3443047</td>\n",
       "      <td>81.00</td>\n",
       "      <td>keviconcanno_1 (193) 100%</td>\n",
       "      <td>USED</td>\n",
       "    </tr>\n",
       "    <tr>\n",
       "      <th>71</th>\n",
       "      <td>71</td>\n",
       "      <td>ZIMBABWE 100 TRILLION DOLLAR BILL AA2008 UNCIRCULATED 100% COA GENUINE</td>\n",
       "      <td>63.00</td>\n",
       "      <td>sheaparadise (304) 100%</td>\n",
       "      <td>UNC</td>\n",
       "    </tr>\n",
       "    <tr>\n",
       "      <th>162</th>\n",
       "      <td>162</td>\n",
       "      <td>100 TRILLION DOLLAR ZIMBABWE AA 2008 SERIES P91   UNC</td>\n",
       "      <td>62.00</td>\n",
       "      <td>victorian.world (1,513) 99.4%</td>\n",
       "      <td>UNC</td>\n",
       "    </tr>\n",
       "    <tr>\n",
       "      <th>65</th>\n",
       "      <td>65</td>\n",
       "      <td>ZIMBABWE 100 TRILLION DOLLAR BILL AA2008 UNCIRCULATED 100% COA GENUINE</td>\n",
       "      <td>51.00</td>\n",
       "      <td>sheaparadise (304) 100%</td>\n",
       "      <td>UNC</td>\n",
       "    </tr>\n",
       "    <tr>\n",
       "      <th>54</th>\n",
       "      <td>54</td>\n",
       "      <td>ZIMBABWE 100 TRILLION BANKNOTE 1 NOTE AA2008 P91 UNC 1 NOTE</td>\n",
       "      <td>50.00</td>\n",
       "      <td>sharpbbelt (595) 0%</td>\n",
       "      <td>UNC</td>\n",
       "    </tr>\n",
       "  </tbody>\n",
       "</table>\n",
       "</div>"
      ],
      "text/plain": [
       "     Sr_No  \\\n",
       "83      83   \n",
       "3        3   \n",
       "101    101   \n",
       "55      55   \n",
       "139    139   \n",
       "64      64   \n",
       "7        7   \n",
       "222    222   \n",
       "22      22   \n",
       "2        2   \n",
       "163    163   \n",
       "202    202   \n",
       "106    106   \n",
       "1        1   \n",
       "13      13   \n",
       "92      92   \n",
       "20      20   \n",
       "209    209   \n",
       "53      53   \n",
       "145    145   \n",
       "176    176   \n",
       "126    126   \n",
       "78      78   \n",
       "61      61   \n",
       "24      24   \n",
       "56      56   \n",
       "50      50   \n",
       "102    102   \n",
       "71      71   \n",
       "162    162   \n",
       "65      65   \n",
       "54      54   \n",
       "\n",
       "                                                                               Title  \\\n",
       "83                        SEQUENTIAL 2008 P91 100 TRILLION DOLLAR ZIMBABWE BANKNOTES   \n",
       "3       ZIMBABWE 100 TRILLION DOLLARS 2008 AA P91 BANKNOTE NEW UNC ZIM CURRENCY WCOA   \n",
       "101       AUTHENTIC 100 TRILLION ZIM BOND DOLLARS 2008 ZIMBABWE 2008 AA UNC WITH COA   \n",
       "55   100 TRILLION DOLLAR AUTHENTIC ZIM ZIMBABWE 2008 AA BOND COA CERTIFICATE UV PASS   \n",
       "139  UNC 2008 100 TRILLION DOLLARS ZIMBABWE BANKNOTE P91 LARGEST DENOM NOTE CURRENCY   \n",
       "64          2008 100 TRILLION DOLLARS ZIMBABWE BANKNOTE AA P91 GEM UNC NOTE CURRENCY   \n",
       "7             ZIMBABWE 100 TRILLION DOLLAR BILL AA2008 UNCIRCULATED 100% COA GENUINE   \n",
       "222     ZIMBABWE 100 TRILLION BANKNOTE 1 NOTE AA2008 P91 UNC AUTHENTICITY GUARANTEED   \n",
       "22        100 TRILLION DOLLAR ZIMBABWE AA 2008 SERIES P91 UNCIRCULATED FAST SHIP COA   \n",
       "2      100 TRILLION DOLLAR ZIMBABWE AA 2008 SERIES P91  USED CONDITION FAST SHIP COA   \n",
       "163       ZIMBABWE 100 TRILLION DOLLARS 2008 AA AUTHENTIC UV LIGHT UNC US SELLER COA   \n",
       "202      ZIMBABWE 100 TRILLION BANKNOTE 1 NOTE AA2008 UNC AUTHENTICITY 36 HOURS ONLY   \n",
       "106             ZIMBABWE 100 TRILLION BANKNOTE 1 NOTE AA2008 UNC COA  PARKER SPECIAL   \n",
       "1       ZIMBABWE 100 TRILLION BANKNOTE 1 NOTE AA2008 P91 UNC AUTHENTICITY GUARANTEED   \n",
       "13        ZIM ZIMBABWE 100 TRILLION 1 BANKNOTE NOTE AA 2008 P91 UNC UV AUTHENTIC COA   \n",
       "92                              100 TRILLION DOLLARS ZIMBABWE AA 2008 SERIES P91 UNC   \n",
       "20    ZIMBABWE 100 TRILLION DOLLARS 2008 P91 AA UV LIGHT TESTED UNCIRCULATED UNC COA   \n",
       "209                      ZIMBABWE BANKNOTE 100 TRILLION DOLLARS 2008  UNC  AUTHENTIC   \n",
       "53    ZIMBABWE 100 TRILLION DOLLARS 2008 P91 AA AUTHENTIC UV LIGHT UNC US SELLER COA   \n",
       "145       ZIMBABWE 100 TRILLION DOLLARS 2008 P91 AA UV LIGHT TESTED UNCIRCULATED UNC   \n",
       "176       100 TRILLION DOLLAR ZIMBABWE AA 2008 SERIES P91 UNCIRCULATED FAST SHIP COA   \n",
       "126                    2008  100 TRILLION DOLLAR  ZIMBABWE  AA NOTES  100% AUTHENTIC   \n",
       "78                      100 TRILLION DOLLAR ZIMBABWE AA 2008 SERIES P91 UNCIRCULATED   \n",
       "61         ZIMBABWE 100 TRILLION DOLLARS BANKNOTE 2008 CHOICE UNCIRCULATED COND PICK   \n",
       "24                             100 TRILLION DOLLAR ZIMBABWE AA 2008 SERIES P91   UNC   \n",
       "56                  NEW LISTING100 TRILLION DOLLAR ZIMBABWE AA 2008 SERIES P91   UNC   \n",
       "50               2008 ZIMBABWE 100000000000000 ONE HUNDRED TRILLION DOLLARS NOTE UNC   \n",
       "102                      100 TRILLION DOLLAR ZIMBABWE 2008 USED CONDITION  AA3443047   \n",
       "71            ZIMBABWE 100 TRILLION DOLLAR BILL AA2008 UNCIRCULATED 100% COA GENUINE   \n",
       "162                            100 TRILLION DOLLAR ZIMBABWE AA 2008 SERIES P91   UNC   \n",
       "65            ZIMBABWE 100 TRILLION DOLLAR BILL AA2008 UNCIRCULATED 100% COA GENUINE   \n",
       "54                       ZIMBABWE 100 TRILLION BANKNOTE 1 NOTE AA2008 P91 UNC 1 NOTE   \n",
       "\n",
       "      Price                          Seller Info Condition  \n",
       "83   250.00                   jamu_92 (22) 87.5%      None  \n",
       "3    217.17        oceancoinandcard (1,106) 100%       UNC  \n",
       "101  188.95          banknotecorner (2,070) 100%       UNC  \n",
       "55   188.95          banknotecorner (2,070) 100%      None  \n",
       "139  138.95            mbarrcoins (441,366) 100%       UNC  \n",
       "64   138.90            mbarrcoins (441,366) 100%       UNC  \n",
       "7    129.99       currencyadventure (4,896) 100%       UNC  \n",
       "222  129.95            rigiddesign (26,075) 100%       UNC  \n",
       "22   129.95  collectibles-currency (3,291) 99.9%       UNC  \n",
       "2    129.95  collectibles-currency (3,291) 99.9%      USED  \n",
       "163  129.45           j.expressions (2,160) 100%       UNC  \n",
       "202  128.99           100trillions (7,384) 99.8%       UNC  \n",
       "106  128.99           100trillions (7,384) 99.8%       UNC  \n",
       "1    128.99           100trillions (7,384) 99.8%       UNC  \n",
       "13   128.95            rigiddesign (26,075) 100%       UNC  \n",
       "92   127.95           j.expressions (2,160) 100%       UNC  \n",
       "20   124.95            rigiddesign (26,075) 100%       UNC  \n",
       "209  123.00           alfredinho10-44 (169) 100%       UNC  \n",
       "53   119.95           j.expressions (2,160) 100%       UNC  \n",
       "145  119.00              benedictum (2,054) 100%       UNC  \n",
       "176  119.00                  ginoblue69 (633) 0%       UNC  \n",
       "126  109.97            mbarrcoins (441,366) 100%      None  \n",
       "78   100.00                    regiofyi-0 (1) 0%       UNC  \n",
       "61    93.00          lgarvinsworld (16,131) 100%       UNC  \n",
       "24    88.00        victorian.world (1,513) 99.4%       UNC  \n",
       "56    82.00        victorian.world (1,513) 99.4%       UNC  \n",
       "50    81.00              choicebu (48,468) 99.9%       UNC  \n",
       "102   81.00            keviconcanno_1 (193) 100%      USED  \n",
       "71    63.00              sheaparadise (304) 100%       UNC  \n",
       "162   62.00        victorian.world (1,513) 99.4%       UNC  \n",
       "65    51.00              sheaparadise (304) 100%       UNC  \n",
       "54    50.00                  sharpbbelt (595) 0%       UNC  "
      ]
     },
     "execution_count": 250,
     "metadata": {},
     "output_type": "execute_result"
    }
   ],
   "source": [
    "df"
   ]
  },
  {
   "cell_type": "markdown",
   "id": "44aa8e7c",
   "metadata": {
    "id": "44aa8e7c"
   },
   "source": [
    "1. new/unc/uncirculated\n",
    "2. used/circulated/damaged\n",
    "\n",
    "- uppercase title\n",
    "- trim title - leading and trailing spaces\n",
    "- zimbabwe 100 trillion\n",
    "- for 1 banknote"
   ]
  }
 ],
 "metadata": {
  "colab": {
   "provenance": []
  },
  "kernelspec": {
   "display_name": "Python 3 (ipykernel)",
   "language": "python",
   "name": "python3"
  },
  "language_info": {
   "codemirror_mode": {
    "name": "ipython",
    "version": 3
   },
   "file_extension": ".py",
   "mimetype": "text/x-python",
   "name": "python",
   "nbconvert_exporter": "python",
   "pygments_lexer": "ipython3",
   "version": "3.9.13"
  }
 },
 "nbformat": 4,
 "nbformat_minor": 5
}
